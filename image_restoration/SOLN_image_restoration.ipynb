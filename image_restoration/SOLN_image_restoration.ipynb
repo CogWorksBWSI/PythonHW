{
 "cells": [
  {
   "attachments": {
    "blowup.png": {
     "image/png": "[encoded data removed]"
    },
    "noisy-example.png": {
     "image/png": "[encoded data removed]"
    }
   },
   "cell_type": "markdown",
   "metadata": {},
   "source": [
    "# Restoring a Noisy Image\n",
    "> Written by David Mascharka\n",
    "\n",
    "**This problem is *not* graded. The autograder will tell you if your solution is correct, but will not provide a hash. The solution notebook is available on EdX. **\n",
    "\n",
    "## Understanding image restoration\n",
    "In this problem, we will learn about a simple algorithm for removing noise from ('denoising') an image. We will want to use vectorization to write an efficient algorithm for this.\n",
    "\n",
    "Suppose we have an image that we want to transmit to a friend. During transmission, there is a 10% chance that any given pixel gets distorted. After transmission, about 10% of our pixels have changed colors due to this distortion. For example, we might start with the image on the left and our friend may receive the image on the right:\n",
    "\n",
    "\n",
    "![noisy-example.png](attachment:noisy-example.png)\n",
    "\n",
    "We want to write an algorithm that will automatically remove as much noise from the received image as possible. The algorithm we'll use for this is called Iterated Conditional Modes (ICM). We'll only concern ourselves with grayscale images for this, but note that the same technique can be applied to color images as well.\n",
    "\n",
    "#### Iterated Conditional Modes \n",
    "The idea behind ICM is pretty straightforward. It hinges on a very simple observation: in an image, color changes are very infrequent. Objects tend to have the same color throughout them, so the only color differences we run into are when we transition from one object to another. For example, in the image above we see a color transition when we look at the boundary of the circle and the triangle. However, within an object the color is the same.\n",
    "\n",
    "Taking a look at the noisy image, we can see that there are a lot of color changes; far more than in the original image. Most of these are isolated to a single pixel. For example, see this blowup of the triangle:\n",
    "\n",
    "![blowup.png](attachment:blowup.png)\n",
    "\n",
    "In the middle of the red rectangle we can see a dark gray pixel that's all by itself. We can be almost certain that this kind of discontinuity is caused by noise. The chances of a single pixel being a different color than all of its neighbors in a normal image is very low. If we change the color of that dark gray pixel to light gray, we'll probably improve the image quality.\n",
    "\n",
    "This is exactly what the Iterated Conditional Modes algorithm does. We define the *energy* of a pixel $p$ as the number of $p$'s neighbors that differ in color from $p$.  We will define $p$'s neighborhood as the four pixels immediately adjacent to $p$. If $p$ is at $(3, 5)$, then $p$'s neighborhood is $\\{(2, 5), (4, 5), (3, 4), (3, 6)\\}$.\n",
    " \n",
    "The energy of the whole image is the sum of each pixel's energy. The aim of the ICM algorithm is to minimize the energy of the noisy image by appropriately choosing color values for the most energetic pixels.\n",
    "\n",
    "As you can probably tell by the name, *Iterated* Conditional Modes is an iterative algorithm. At each iteration, we change the color value of the highest-energy pixel to match the most neighbors it can.\n",
    "\n",
    "Let's fix a concrete example. Suppose we're transmitting a 5x8 image that looks like this:\n",
    "\n",
    "```\n",
    "                                0  0  0  0  1  1  1  1\n",
    "                                0  0  0  0  1  1  1  1\n",
    "                                0  0  0  0  1  1  1  1\n",
    "                                0  0  0  0  1  1  1  1\n",
    "                                0  0  0  0  1  1  1  1\n",
    "```\n",
    "\n",
    "Not very interesting, but it illustrates our point. Suppose the transmitted image that our friend receives is:\n",
    "\n",
    "```\n",
    "                                0  0  0  0  1  1  0  1\n",
    "                                0  1  0  0  1  1  1  1\n",
    "                                0  0  0  0  0  1  1  1\n",
    "                                0  0  0  0  1  1  1  1\n",
    "                                0  0  1  0  1  1  1  1\n",
    "```\n",
    "\n",
    "We can compute the energy at each pixel by recording how many of the pixels above, below, left, and right are a different value. If we do this, we get these energy values:\n",
    "\n",
    "```\n",
    "                                0  1  0  1  1  1  3  1\n",
    "                                1  4  1  1  2  0  1  0\n",
    "                                0  1  0  1  3  1  0  0\n",
    "                                0  0  1  1  2  0  0  0\n",
    "                                0  1  3  2  1  0  0  0\n",
    "```\n",
    "\n",
    "Remeber, these are *energy* values, not *color* values. We'll pick the highest-energy pixel, which is at $(1, 1)$ and has energy 4. We change its color to minimize its energy. This is the value $0$. Flipping it yields the image:\n",
    "\n",
    "```\n",
    "                                0  0  0  0  1  1  0  1\n",
    "                                0  0  0  0  1  1  1  1\n",
    "                                0  0  0  0  0  1  1  1\n",
    "                                0  0  0  0  1  1  1  1\n",
    "                                0  0  1  0  1  1  1  1\n",
    "```\n",
    "\n",
    "We can now recompute the energy across the entire image and choose the next-highest value. Eventually, we reach a point where we don't swap any labels, and our algorithm terminates, yielding the restored image:\n",
    "\n",
    "```\n",
    "                                0  0  0  0  1  1  1  1\n",
    "                                0  0  0  0  1  1  1  1\n",
    "                                0  0  0  0  1  1  1  1\n",
    "                                0  0  0  0  1  1  1  1\n",
    "                                0  0  0  0  1  1  1  1\n",
    "```\n",
    "\n",
    "which perfectly restores what we transmitted. Note that in general, the restoration will not be perfect. For an example of an imperfect restoration, if we get this transmission:\n",
    "\n",
    "```\n",
    "                                0  0  0  0  1  1  1  1\n",
    "                                0  1  1  0  1  1  1  1\n",
    "                                0  1  1  0  1  1  1  1\n",
    "                                0  0  0  0  1  1  1  1\n",
    "                                0  0  0  0  1  1  1  1\n",
    "```\n",
    "\n",
    "we will not remove that block of $1$s in the middle of the $0$s."
   ]
  },
  {
   "cell_type": "markdown",
   "metadata": {},
   "source": [
    "## Problem 1: Local energy of each pixel\n",
    "Write a Python function that takes in a 2-dimensional NumPy array containing color values, and returns the energy at each pixel in the image. Recall that the energy of a pixel is the number of a pixel's neighbors that differ from it.\n",
    "\n",
    "Hint: the vectorized solution to the heat equation problem can be easily adapted to compute the energy at each pixel.\n",
    "\n",
    "Fun fact: `True` and `False` can be interpreted as integers! A `True` value is a binary 1, while `False` is binary 0. We can use this fact to help with our vectorization. Try it out!\n",
    "\n",
    "```\n",
    ">>> np.sum([False, True, False])\n",
    "1\n",
    "```"
   ]
  },
  {
   "cell_type": "code",
   "execution_count": null,
   "metadata": {
    "collapsed": true
   },
   "outputs": [],
   "source": [
    "import numpy as np\n",
    "\n",
    "def compute_energy(img):\n",
    "    \"\"\" Given a 2D array of color values, produces a 2D array with\n",
    "        the energy at each pixel, where energy is defined as the sum\n",
    "        of each's pixels neighbors differing in color from that pixel.\n",
    "    \n",
    "        Parameters\n",
    "        ----------\n",
    "        img : numpy.ndarray, shape=(M, N)\n",
    "            An MxN array of color values.\n",
    "\n",
    "        Returns\n",
    "        -------\n",
    "        numpy.ndarray, shape=(M, N)\n",
    "            An MxN array of energy values.\n",
    "    \"\"\"\n",
    "    energies = np.zeros_like(img)\n",
    "    \n",
    "    energies[:-1] += img[:-1] != img[1:]           # below\n",
    "    energies[1:] += img[1:] != img[:-1]            # above\n",
    "    energies[:, :-1] += img[:, :-1] != img[:, 1:]  # right\n",
    "    energies[:, 1:] += img[:, 1:] != img[:, :-1]   # left\n",
    "    return energies\n"
   ]
  },
  {
   "cell_type": "code",
   "execution_count": null,
   "metadata": {
    "collapsed": true
   },
   "outputs": [],
   "source": [
    "from bwsi_grader.python.image_restoration import grader1\n",
    "grader1(compute_energy)"
   ]
  },
  {
   "cell_type": "markdown",
   "metadata": {},
   "source": [
    "## Problem 2: Neighbor colors\n",
    "Once we get the highest-energy pixel, we need to get the color values of its neighbors, so we know what color will minimize the energy. Write a Python function that takes in a 2D NumPy array of color values and (row, column) coordinates of a pixel, and returns a list containing the color values of $(r, c)$'s neighbors."
   ]
  },
  {
   "cell_type": "code",
   "execution_count": null,
   "metadata": {
    "collapsed": true
   },
   "outputs": [],
   "source": [
    "def get_neighbor_colors(img, pixel):\n",
    "    \"\"\" Given a 2D array of color values and the position of a pixel,\n",
    "        returns a list of `pixel`'s neighboring color values.\n",
    "\n",
    "    Parameters\n",
    "    ----------\n",
    "    img : numpy.ndarray, shape=(M, N)\n",
    "        An MxN array of color values\n",
    "    pixel : tuple[int, int]\n",
    "        The (r, c) index of the pixel whose neighbors to retrieve.\n",
    "\n",
    "    Returns\n",
    "    -------\n",
    "    List[int]\n",
    "        The color (or label) value of each of `pixel`'s neighbors.\n",
    "    \"\"\"\n",
    "    neighbor_vals = []\n",
    "    if pixel[0] > 0:\n",
    "        neighbor_vals.append(img[pixel[0]-1, pixel[1]])\n",
    "    if pixel[1] > 0:\n",
    "        neighbor_vals.append(img[pixel[0], pixel[1]-1])\n",
    "    if pixel[0] < img.shape[0]-1:\n",
    "        neighbor_vals.append(img[pixel[0]+1, pixel[1]])\n",
    "    if pixel[1] < img.shape[1]-1:\n",
    "        neighbor_vals.append(img[pixel[0], pixel[1]+1])\n",
    "    return neighbor_vals"
   ]
  },
  {
   "cell_type": "code",
   "execution_count": null,
   "metadata": {
    "collapsed": true
   },
   "outputs": [],
   "source": [
    "from bwsi_grader.python.image_restoration import grader2\n",
    "grader2(get_neighbor_colors)"
   ]
  },
  {
   "cell_type": "markdown",
   "metadata": {},
   "source": [
    "## Problem 3: Iterated Conditional Modes\n",
    "With these two functions in place, we can implement Iterated Conditional Modes. Write a Python function takes as input a 2D NumPy array of color values and returns a new image with the highest-energy pixel replaced.\n",
    "\n",
    "Your function should:\n",
    " - Use the `compute_energy` function to get the energy at each pixel\n",
    " - Find the pixel coordinates of the highest-energy pixel (*hint: NumPy's argmax may be useful*)\n",
    " - Use the `get_neighbor_colors` function to get the colors of the highest-energy pixel's neighbors\n",
    " - Change the highest-energy pixel color to best match its neighbors (we can choose the most-common neighbor value)"
   ]
  },
  {
   "cell_type": "code",
   "execution_count": null,
   "metadata": {
    "collapsed": true
   },
   "outputs": [],
   "source": [
    "def denoise_iter(noisy):\n",
    "    \"\"\" Given a 2D array of color values, performs one step of the\n",
    "        Iterated Conditional Modes algorithm, changing the color of\n",
    "        the highest-energy pixel.\n",
    "\n",
    "        Paramters\n",
    "        ---------\n",
    "        noisy : numpy.ndarray, shape=(M, N)\n",
    "            An MxN array of color values.\n",
    "\n",
    "        Returns\n",
    "        -------\n",
    "        numpy.ndarray, shape=(M, N)\n",
    "            An MxN array of color values, after applying one step of ICM.\n",
    "    \"\"\"\n",
    "    noisy = noisy.copy()\n",
    "    # get the energy\n",
    "    energies = compute_energy(noisy)\n",
    "\n",
    "    # get the highest-energy pixel coordinates\n",
    "    highest_energy = np.divmod(np.argmax(energies), noisy.shape[1])\n",
    "\n",
    "    # compute the mode of the pixel's neighbors\n",
    "    neighbors = get_neighbor_colors(noisy, highest_energy)\n",
    "    (neighbor_labels, neighbor_counts) = np.unique(neighbors, return_counts=True)\n",
    "\n",
    "    # assign the best label (mode of the neighbors) to the highest-energy pixel\n",
    "    best_label = neighbor_labels[np.argmax(neighbor_counts)]\n",
    "    noisy[highest_energy] = best_label\n",
    "    return noisy"
   ]
  },
  {
   "cell_type": "code",
   "execution_count": null,
   "metadata": {
    "collapsed": true
   },
   "outputs": [],
   "source": [
    "from bwsi_grader.python.image_restoration import grader3\n",
    "grader3(denoise_iter)"
   ]
  },
  {
   "cell_type": "markdown",
   "metadata": {},
   "source": [
    "Now we'll see your functions in action. Let's generate a noisy image."
   ]
  },
  {
   "cell_type": "code",
   "execution_count": null,
   "metadata": {
    "collapsed": true
   },
   "outputs": [],
   "source": [
    "# This cell generates a noisy image and displays it\n",
    "# You need not modify this code, simply run the cell\n",
    "\n",
    "import matplotlib.pyplot as plt\n",
    "%matplotlib notebook\n",
    "\n",
    "def generate_noisy_copy(img, pct_noise):\n",
    "    ''' Given a 2D array of color values and an approximate noise percentage,\n",
    "        returns a noisy image.\n",
    "    \n",
    "        Parameters\n",
    "        ----------\n",
    "        img : numpy.ndarray, shape=(M, N)\n",
    "            An MxN array of color values -- the pristine image.\n",
    "        pct_noise : float\n",
    "            The amount of noise to add, as an approximate percentage.\n",
    "\n",
    "        Returns\n",
    "        -------\n",
    "        numpy.ndarray, shape=(M, N)\n",
    "            An MxN array of color values -- a noisy copy of the pristine image.\n",
    "    '''\n",
    "    # create a noise image built by randomly choosing a color from our image\n",
    "    noise = np.random.choice(np.unique(img), img.shape).astype(np.uint8)\n",
    "    # make a random choice for each pixel, as to whether to draw that pixel from \n",
    "    # the `noise` image or from input image\n",
    "    rands = np.random.rand(img.size).reshape(img.shape)\n",
    "    \n",
    "    # start with a copy of the pristine image and distort it\n",
    "    noisy = img.copy()\n",
    "    idxs_to_change = np.where(rands < pct_noise)\n",
    "    noisy[idxs_to_change] = noise[idxs_to_change]\n",
    "    \n",
    "    return noisy\n",
    "\n",
    "# load the original image\n",
    "pristine = (plt.imread('original-image.png')*255).astype(np.uint8)\n",
    "\n",
    "# add about 10% noise\n",
    "noisy = generate_noisy_copy(pristine, 0.1)\n",
    "\n",
    "# display the images\n",
    "fig, axs = plt.subplots(1, 2, figsize=(8, 5))\n",
    "axs[0].imshow(pristine, 'gray')\n",
    "axs[1].imshow(noisy, 'gray')"
   ]
  },
  {
   "cell_type": "markdown",
   "metadata": {},
   "source": [
    "With all the code in place, let's finally denoise our image!"
   ]
  },
  {
   "cell_type": "code",
   "execution_count": null,
   "metadata": {
    "collapsed": true
   },
   "outputs": [],
   "source": [
    "# You may simply run this cell\n",
    "\n",
    "num_iters = 0                    # how many iterations we have performed, to see progress\n",
    "cleaned_up = noisy.copy()        # the denoised image\n",
    "old = np.zeros_like(cleaned_up)  # the previous iteration, for a stopping condition\n",
    "while np.any(old != cleaned_up): # loop until no labels change values\n",
    "    num_iters += 1\n",
    "    if (num_iters%1000) == 0:    # print progress\n",
    "        print(num_iters, 'Energy {}'.format(compute_energy(cleaned_up).sum()))\n",
    "    old = cleaned_up.copy()\n",
    "    cleaned_up = denoise_iter(cleaned_up)"
   ]
  },
  {
   "cell_type": "markdown",
   "metadata": {},
   "source": [
    "Display the noisy version, our denoised image, and the original alongside each other"
   ]
  },
  {
   "cell_type": "code",
   "execution_count": null,
   "metadata": {
    "collapsed": true
   },
   "outputs": [],
   "source": [
    "# Again, you only need to run this\n",
    "\n",
    "fig, axs = plt.subplots(1, 3, figsize=(8, 3))\n",
    "axs[0].imshow(noisy, 'gray')\n",
    "axs[1].imshow(cleaned_up, 'gray')\n",
    "axs[2].imshow(pristine, 'gray')"
   ]
  },
  {
   "cell_type": "markdown",
   "metadata": {},
   "source": [
    "Now we can see the difference in energy between the original and denoised version"
   ]
  },
  {
   "cell_type": "code",
   "execution_count": null,
   "metadata": {
    "collapsed": true
   },
   "outputs": [],
   "source": [
    "compute_energy(cleaned_up).sum()"
   ]
  },
  {
   "cell_type": "code",
   "execution_count": null,
   "metadata": {
    "collapsed": true
   },
   "outputs": [],
   "source": [
    "compute_energy(pristine).sum()"
   ]
  },
  {
   "cell_type": "code",
   "execution_count": null,
   "metadata": {
    "collapsed": true
   },
   "outputs": [],
   "source": []
  }
 ],
 "metadata": {
  "kernelspec": {
   "display_name": "Python 3",
   "language": "python",
   "name": "python3"
  },
  "language_info": {
   "codemirror_mode": {
    "name": "ipython",
    "version": 3
   },
   "file_extension": ".py",
   "mimetype": "text/x-python",
   "name": "python",
   "nbconvert_exporter": "python",
   "pygments_lexer": "ipython3",
   "version": "3.7.2"
  }
 },
 "nbformat": 4,
 "nbformat_minor": 2
}
